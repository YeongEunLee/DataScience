{
 "cells": [
  {
   "cell_type": "markdown",
   "metadata": {},
   "source": [
    "# [DA_LAB] 2. 링크프레딕션: networkx 라이브러리의 활용"
   ]
  },
  {
   "cell_type": "markdown",
   "metadata": {},
   "source": [
    "## Link Prediction"
   ]
  },
  {
   "cell_type": "markdown",
   "metadata": {},
   "source": [
    "### Contents\n",
    "* 데이터 준비(두 개의 분석구간)\n",
    "* 링크 예측\n",
    "* 성능 검증"
   ]
  },
  {
   "cell_type": "markdown",
   "metadata": {},
   "source": [
    "### Used Library\n",
    "* networkx\n",
    "* pandas\n",
    "* pickle"
   ]
  },
  {
   "cell_type": "code",
   "execution_count": 1,
   "metadata": {},
   "outputs": [],
   "source": [
    "import pandas as pd\n",
    "import networkx as nx\n",
    "import pickle"
   ]
  },
  {
   "cell_type": "markdown",
   "metadata": {},
   "source": [
    "### Link Prediction 알고리즘\n",
    "* resource_allocation_index\n",
    "* jaccard_coefficient\n",
    "* adamic_adar_index\n",
    "* preferential_attachment\n",
    "* cn_soundarajan_hopcroft\n",
    "* ra_index_soundarajan_hopcroft\n",
    "* within_inter_cluster"
   ]
  },
  {
   "cell_type": "code",
   "execution_count": 2,
   "metadata": {},
   "outputs": [],
   "source": [
    "with open('[DA_LAB]2-3_(data)ipc_nx_list(1).pickle','rb') as f:\n",
    "    data_first=pickle.load(f)\n",
    "with open('[DA_LAB]2-3_(data)ipc_nx_list(2).pickle','rb') as d:\n",
    "    data_second=pickle.load(d)"
   ]
  },
  {
   "cell_type": "markdown",
   "metadata": {},
   "source": [
    "### 2가지 분석구간의 데이터 준비"
   ]
  },
  {
   "cell_type": "code",
   "execution_count": 4,
   "metadata": {},
   "outputs": [
    {
     "data": {
      "text/plain": [
       "[('A61C', 'A61B', 5),\n",
       " ('G01B', 'C08F', 1),\n",
       " ('B65D', 'B43M', 1),\n",
       " ('B65G', 'A01B', 1),\n",
       " ('C12N', 'C11B', 1),\n",
       " ('G01L', 'G01K', 1),\n",
       " ('H04Q', 'G09B', 1),\n",
       " ('G01F', 'F17D', 2),\n",
       " ('C22C', 'B32B', 1),\n",
       " ('A61K', 'A45D', 1)]"
      ]
     },
     "execution_count": 4,
     "metadata": {},
     "output_type": "execute_result"
    }
   ],
   "source": [
    "data_first[:10]"
   ]
  },
  {
   "cell_type": "code",
   "execution_count": 5,
   "metadata": {},
   "outputs": [
    {
     "data": {
      "text/plain": [
       "[('C11B', 'C07D', 1),\n",
       " ('C10B', 'B09B', 1),\n",
       " ('F16L', 'B62D', 1),\n",
       " ('G03F', 'B41C', 1),\n",
       " ('G06F', 'C08C', 1),\n",
       " ('F02B', 'C01B', 1),\n",
       " ('B32B', 'A61F', 1),\n",
       " ('F16C', 'B61F', 1),\n",
       " ('C03B', 'A61J', 1),\n",
       " ('B62K', 'B60Q', 1)]"
      ]
     },
     "execution_count": 5,
     "metadata": {},
     "output_type": "execute_result"
    }
   ],
   "source": [
    "data_second[:10]"
   ]
  },
  {
   "cell_type": "markdown",
   "metadata": {},
   "source": [
    "### 쌍대노드 간의 링크 강도 예측"
   ]
  },
  {
   "cell_type": "code",
   "execution_count": 6,
   "metadata": {},
   "outputs": [],
   "source": [
    "p=nx.Graph()\n",
    "p.add_weighted_edges_from(data_first)"
   ]
  },
  {
   "cell_type": "markdown",
   "metadata": {},
   "source": [
    "### adamic-adar 알고리즘의 활용"
   ]
  },
  {
   "cell_type": "code",
   "execution_count": 7,
   "metadata": {},
   "outputs": [],
   "source": [
    "preds=nx.adamic_adar_index(p)"
   ]
  },
  {
   "cell_type": "code",
   "execution_count": 8,
   "metadata": {},
   "outputs": [],
   "source": [
    "result_dic={}\n",
    "for u,v,p in preds:\n",
    "    result_dic[(u,v)]=p"
   ]
  },
  {
   "cell_type": "code",
   "execution_count": 9,
   "metadata": {},
   "outputs": [
    {
     "data": {
      "text/plain": [
       "[(('C22F', 'F01B'), 0),\n",
       " (('C22F', 'F24J'), 0),\n",
       " (('C22F', 'H01B'), 0),\n",
       " (('C22F', 'B60B'), 0),\n",
       " (('C22F', 'G08C'), 0),\n",
       " (('C22F', 'G21F'), 0),\n",
       " (('C22F', 'A45C'), 0),\n",
       " (('C22F', 'H04R'), 0),\n",
       " (('C22F', 'C08B'), 0.28599966750267436),\n",
       " (('C22F', 'B25B'), 0)]"
      ]
     },
     "execution_count": 9,
     "metadata": {},
     "output_type": "execute_result"
    }
   ],
   "source": [
    "list(result_dic.items())[:10]"
   ]
  },
  {
   "cell_type": "markdown",
   "metadata": {},
   "source": [
    "### 성능 검증"
   ]
  },
  {
   "cell_type": "code",
   "execution_count": 14,
   "metadata": {},
   "outputs": [],
   "source": [
    "compare_dic={}"
   ]
  },
  {
   "cell_type": "code",
   "execution_count": 15,
   "metadata": {},
   "outputs": [],
   "source": [
    "for tmp in data_second:\n",
    "    if(tmp in result_dic ): ##예측 결과와 데이터2링크 겹치는 거 비교\n",
    "        if(result_dic[tmp]!=0):\n",
    "            compare_dic[tmp]=1\n",
    "        else:\n",
    "            compare_dic[tmp]=0\n",
    "    else:\n",
    "        compare_dic[tmp]=0"
   ]
  },
  {
   "cell_type": "code",
   "execution_count": 18,
   "metadata": {},
   "outputs": [
    {
     "data": {
      "text/plain": [
       "[(('C11B', 'C07D', 1), 0),\n",
       " (('C10B', 'B09B', 1), 0),\n",
       " (('F16L', 'B62D', 1), 0),\n",
       " (('G03F', 'B41C', 1), 0),\n",
       " (('G06F', 'C08C', 1), 0),\n",
       " (('F02B', 'C01B', 1), 0),\n",
       " (('B32B', 'A61F', 1), 0),\n",
       " (('F16C', 'B61F', 1), 0),\n",
       " (('C03B', 'A61J', 1), 0),\n",
       " (('B62K', 'B60Q', 1), 0)]"
      ]
     },
     "execution_count": 18,
     "metadata": {},
     "output_type": "execute_result"
    }
   ],
   "source": [
    "list(compare_dic.items())[:10]"
   ]
  },
  {
   "cell_type": "code",
   "execution_count": null,
   "metadata": {
    "collapsed": true
   },
   "outputs": [],
   "source": []
  }
 ],
 "metadata": {
  "anaconda-cloud": {},
  "kernelspec": {
   "display_name": "Python 3",
   "language": "python",
   "name": "python3"
  },
  "language_info": {
   "codemirror_mode": {
    "name": "ipython",
    "version": 3
   },
   "file_extension": ".py",
   "mimetype": "text/x-python",
   "name": "python",
   "nbconvert_exporter": "python",
   "pygments_lexer": "ipython3",
   "version": "3.7.3"
  }
 },
 "nbformat": 4,
 "nbformat_minor": 1
}
