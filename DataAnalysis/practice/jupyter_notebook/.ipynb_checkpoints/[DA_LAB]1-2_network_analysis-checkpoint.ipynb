{
 "cells": [
  {
   "cell_type": "markdown",
   "metadata": {
    "slideshow": {
     "slide_type": "-"
    }
   },
   "source": [
    "# [DA LAB] 1. 네트워크 분석: 특허데이터에서 IPC 동시출현 네트워크 생성"
   ]
  },
  {
   "cell_type": "markdown",
   "metadata": {},
   "source": [
    "## Network analysis"
   ]
  },
  {
   "cell_type": "markdown",
   "metadata": {},
   "source": [
    "### Contents\n",
    "* 데이터베이스 connection\n",
    "* (특허번호, IPC) list 생성\n",
    "* key: 특허번호의 value: (IPC1, IPC2) Dictionary 생성\n",
    "* key: (IPC1, IPC2)의 value: Frequency 인 Dictionary 생성\n",
    "* IPC 동시출현 네트워크 생성\n",
    "* (IPC1, IPC2, Frequency) 튜플 형식으로 변환\n",
    "* 리스트로 network에 edge 추가\n",
    "* 네트워크 생성 및 시각화\n",
    "* 노드별 centrality 계산; key: 노드, value: centrality인 Dictionary"
   ]
  },
  {
   "cell_type": "markdown",
   "metadata": {},
   "source": [
    "### Used Library\n",
    "* pandas\n",
    "* itertools\n",
    "* pymysql\n",
    "* networkx\n",
    "* matplotlib"
   ]
  },
  {
   "cell_type": "code",
   "execution_count": 1,
   "metadata": {},
   "outputs": [],
   "source": [
    "import pandas as pd\n",
    "import itertools as it\n",
    "import pymysql"
   ]
  },
  {
   "cell_type": "markdown",
   "metadata": {},
   "source": [
    "### 데이터베이스 connection"
   ]
  },
  {
   "cell_type": "code",
   "execution_count": 8,
   "metadata": {},
   "outputs": [],
   "source": [
    "conn = pymysql.connect(host=\"chamaeleon.konkuk.ac.kr\", user=\"class_da\", password=\"dataanalytics\", db=\"tp_class_da\", charset=\"utf8\")\n",
    "cursor = conn.cursor()\n",
    "sql = \"\"\"select paaa.특허등록번호 as reg_num, paaa.IPC4 as ipc4 \n",
    "                   from (select paa.특허등록번호, left(ipc.보유IPC전체코드,4) as IPC4 from\n",
    "                           (SELECT * FROM tp_class_da.us_patent pa order by pa.특허등록일자 desc limit 1000) paa \n",
    "                               inner join tp_class_da.ipc on paa.특허등록번호=ipc.특허등록번호) \n",
    "                        paaa group by paaa.특허등록번호, paaa.IPC4;\"\"\"\n",
    "cursor.execute(sql)\n",
    "db=cursor.fetchall()"
   ]
  },
  {
   "cell_type": "markdown",
   "metadata": {},
   "source": [
    "### 쿼리문 설명\n",
    "* 1000개 특허 선정: SELECT * FROM tp_class_da2019.us_patent pa order by pa.특허등록일자 desclimit 1000\n",
    "* 특허 테이블과 IPC 테이블 조인: inner join tp_class_da2019.ipc on paa.특허등록번호=ipc.특허등록번호\n",
    "* 특허가 가진 IPC 4자리 정보: select paaa.특허등록번호 as reg_num, paaa.IPC4 as ipc4 (~)from group by paaa.특허등록번호, paaa.IPC4"
   ]
  },
  {
   "cell_type": "code",
   "execution_count": 9,
   "metadata": {},
   "outputs": [],
   "source": [
    "patent_list=[]\n",
    "edg_list=[]"
   ]
  },
  {
   "cell_type": "markdown",
   "metadata": {},
   "source": [
    "### (특허번호, IPC) list 생성"
   ]
  },
  {
   "cell_type": "code",
   "execution_count": 10,
   "metadata": {},
   "outputs": [],
   "source": [
    "for reg_num, ipcfull in db:\n",
    "    edg_list.append((reg_num, ipcfull)) # (특허,IPC,1), (특허, IPC,1)\n",
    "    patent_list.append(reg_num)"
   ]
  },
  {
   "cell_type": "code",
   "execution_count": 11,
   "metadata": {},
   "outputs": [
    {
     "data": {
      "text/plain": [
       "[('9848521', 'A01B'),\n",
       " ('9848521', 'B07B'),\n",
       " ('9848521', 'E02F'),\n",
       " ('9848522', 'A01B'),\n",
       " ('9848522', 'G01L'),\n",
       " ('9848523', 'A01B'),\n",
       " ('9848523', 'A01C'),\n",
       " ('9848523', 'G01L'),\n",
       " ('9848524', 'A01B'),\n",
       " ('9848524', 'A01C')]"
      ]
     },
     "execution_count": 11,
     "metadata": {},
     "output_type": "execute_result"
    }
   ],
   "source": [
    "edg_list[:10]"
   ]
  },
  {
   "cell_type": "code",
   "execution_count": 12,
   "metadata": {},
   "outputs": [],
   "source": [
    "edg_list2=dict()"
   ]
  },
  {
   "cell_type": "code",
   "execution_count": 13,
   "metadata": {},
   "outputs": [
    {
     "data": {
      "text/plain": [
       "('9848521', 'A01B')"
      ]
     },
     "execution_count": 13,
     "metadata": {},
     "output_type": "execute_result"
    }
   ],
   "source": [
    "edg_list[0]"
   ]
  },
  {
   "cell_type": "code",
   "execution_count": 14,
   "metadata": {},
   "outputs": [
    {
     "data": {
      "text/plain": [
       "{}"
      ]
     },
     "execution_count": 14,
     "metadata": {},
     "output_type": "execute_result"
    }
   ],
   "source": [
    "edg_list2\n",
    "# edg_list2[9848537]"
   ]
  },
  {
   "cell_type": "markdown",
   "metadata": {},
   "source": [
    "### key: 특허번호의 value: (IPC1, IPC2) Dictionary 생성"
   ]
  },
  {
   "cell_type": "code",
   "execution_count": 15,
   "metadata": {},
   "outputs": [],
   "source": [
    "for reg, ipc in edg_list:\n",
    "    if edg_list2.get(reg): #키가 없을 경우 none\n",
    "        edg_list2[reg].append(ipc) #기존 특허의 값인 IPC 리스트에 append 추가!!\n",
    "    else: \n",
    "        edg_list2[reg]=[ipc] #새로온 특허의 값으로 IPC 리스트 생성 {특허번호: (ipc1,ipc)}"
   ]
  },
  {
   "cell_type": "code",
   "execution_count": 41,
   "metadata": {},
   "outputs": [
    {
     "data": {
      "text/plain": [
       "[('9848521', ['A01B', 'B07B', 'E02F']),\n",
       " ('9848522', ['A01B', 'G01L']),\n",
       " ('9848523', ['A01B', 'A01C', 'G01L']),\n",
       " ('9848524', ['A01B', 'A01C']),\n",
       " ('9848525', ['A01C', 'B65G']),\n",
       " ('9848526', ['A01B', 'A01C']),\n",
       " ('9848527', ['A01B', 'A01C']),\n",
       " ('9848528', ['A01C', 'G01S']),\n",
       " ('9848529', ['A01D']),\n",
       " ('9848530', ['A01D', 'A01F'])]"
      ]
     },
     "execution_count": 41,
     "metadata": {},
     "output_type": "execute_result"
    }
   ],
   "source": [
    "list(edg_list2.items())[:10]\n"
   ]
  },
  {
   "cell_type": "code",
   "execution_count": 22,
   "metadata": {},
   "outputs": [],
   "source": [
    "co_edlst={} # {(ipc1, ipc2), frequency}"
   ]
  },
  {
   "cell_type": "markdown",
   "metadata": {},
   "source": [
    "### key: (IPC1, IPC2)의 value: Frequency 인 Dictionary 생성"
   ]
  },
  {
   "cell_type": "code",
   "execution_count": 23,
   "metadata": {},
   "outputs": [],
   "source": [
    "#특허가 보유한 IPC 간의 동시출현빈도 계산: 특허의 IPC 리스트에서 쌍대비교\n",
    "for k, v in edg_list2.items(): #items 리스트에서 key와 value를 호출하는 반복문\n",
    "    for ipc1, ipc2 in it.combinations(v,2):\n",
    "        tmp=(ipc1,ipc2) if ipc2<ipc1 else(ipc2, ipc1)\n",
    "        if co_edlst.get(tmp, False):\n",
    "            co_edlst[tmp]+=1\n",
    "        else: \n",
    "            co_edlst[tmp]=1"
   ]
  },
  {
   "cell_type": "code",
   "execution_count": 40,
   "metadata": {},
   "outputs": [
    {
     "data": {
      "text/plain": [
       "[(('B07B', 'A01B'), 1),\n",
       " (('E02F', 'A01B'), 1),\n",
       " (('E02F', 'B07B'), 2),\n",
       " (('G01L', 'A01B'), 2),\n",
       " (('A01C', 'A01B'), 4),\n",
       " (('G01L', 'A01C'), 1),\n",
       " (('B65G', 'A01C'), 1),\n",
       " (('G01S', 'A01C'), 1),\n",
       " (('A01F', 'A01D'), 3),\n",
       " (('A01D', 'A01B'), 1)]"
      ]
     },
     "execution_count": 40,
     "metadata": {},
     "output_type": "execute_result"
    }
   ],
   "source": [
    "list(co_edlst.items())[:10]"
   ]
  },
  {
   "cell_type": "markdown",
   "metadata": {},
   "source": [
    "## IPC 동시출현 네트워크 생성"
   ]
  },
  {
   "cell_type": "code",
   "execution_count": 25,
   "metadata": {},
   "outputs": [],
   "source": [
    "import networkx as nx\n",
    "import matplotlib.pyplot as plt\n",
    "import pandas\n",
    "import collections"
   ]
  },
  {
   "cell_type": "markdown",
   "metadata": {},
   "source": [
    "### (IPC1, IPC2, Frequency) 튜플 형식으로 변환"
   ]
  },
  {
   "cell_type": "code",
   "execution_count": 26,
   "metadata": {},
   "outputs": [],
   "source": [
    "network_list=[]\n",
    "for k,v in co_edlst.items():\n",
    "    network_list.append((k[0],k[1],int(v)))"
   ]
  },
  {
   "cell_type": "code",
   "execution_count": 27,
   "metadata": {},
   "outputs": [
    {
     "data": {
      "text/plain": [
       "[('B07B', 'A01B', 1),\n",
       " ('E02F', 'A01B', 1),\n",
       " ('E02F', 'B07B', 2),\n",
       " ('G01L', 'A01B', 2),\n",
       " ('A01C', 'A01B', 4),\n",
       " ('G01L', 'A01C', 1),\n",
       " ('B65G', 'A01C', 1),\n",
       " ('G01S', 'A01C', 1),\n",
       " ('A01F', 'A01D', 3),\n",
       " ('A01D', 'A01B', 1)]"
      ]
     },
     "execution_count": 27,
     "metadata": {},
     "output_type": "execute_result"
    }
   ],
   "source": [
    "network_list[:10]"
   ]
  },
  {
   "cell_type": "markdown",
   "metadata": {},
   "source": [
    "### 리스트로 network에 edge 추가"
   ]
  },
  {
   "cell_type": "code",
   "execution_count": 28,
   "metadata": {},
   "outputs": [],
   "source": [
    "#add_weighted_edges_from([(0, 1, 3.0), (1, 2, 7.5)])\n",
    "P=nx.Graph()\n",
    "P.add_weighted_edges_from(network_list)"
   ]
  },
  {
   "cell_type": "markdown",
   "metadata": {},
   "source": [
    "### 네트워크 생성 및 시각화"
   ]
  },
  {
   "cell_type": "code",
   "execution_count": 29,
   "metadata": {},
   "outputs": [
    {
     "name": "stderr",
     "output_type": "stream",
     "text": [
      "C:\\ProgramData\\Anaconda3\\lib\\site-packages\\networkx\\drawing\\nx_pylab.py:579: MatplotlibDeprecationWarning: \n",
      "The iterable function was deprecated in Matplotlib 3.1 and will be removed in 3.3. Use np.iterable instead.\n",
      "  if not cb.iterable(width):\n"
     ]
    },
    {
     "data": {
      "image/png": "[encoded data removed]",
      "text/plain": [
       "<Figure size 432x288 with 1 Axes>"
      ]
     },
     "metadata": {},
     "output_type": "display_data"
    }
   ],
   "source": [
    "nx.draw_spring(P)\n",
    "plt.show()"
   ]
  },
  {
   "cell_type": "markdown",
   "metadata": {},
   "source": [
    "### 노드별 centrality 계산; key: 노드, value: centrality인 Dictionary"
   ]
  },
  {
   "cell_type": "code",
   "execution_count": 30,
   "metadata": {},
   "outputs": [
    {
     "data": {
      "text/plain": [
       "0.03676470588235294"
      ]
     },
     "execution_count": 30,
     "metadata": {},
     "output_type": "execute_result"
    }
   ],
   "source": [
    "nx.degree_centrality(P).get('A01B')\n",
    "#https://networkx.github.io/documentation/stable/reference/algorithms/centrality.html"
   ]
  },
  {
   "cell_type": "code",
   "execution_count": 38,
   "metadata": {},
   "outputs": [
    {
     "data": {
      "text/plain": [
       "[('B07B', 0.014705882352941176),\n",
       " ('A01B', 0.03676470588235294),\n",
       " ('E02F', 0.007352941176470588),\n",
       " ('G01L', 0.058823529411764705),\n",
       " ('A01C', 0.014705882352941176),\n",
       " ('B65G', 0.04779411764705882),\n",
       " ('G01S', 0.025735294117647058),\n",
       " ('A01F', 0.014705882352941176),\n",
       " ('A01D', 0.014705882352941176),\n",
       " ('B60P', 0.014705882352941176)]"
      ]
     },
     "execution_count": 38,
     "metadata": {},
     "output_type": "execute_result"
    }
   ],
   "source": [
    "list(nx.degree_centrality(P).items())[:10]"
   ]
  },
  {
   "cell_type": "code",
   "execution_count": 44,
   "metadata": {},
   "outputs": [
    {
     "data": {
      "text/plain": [
       "[('B07B', 0.2525533890436397),\n",
       " ('A01B', 0.31887456037514655),\n",
       " ('E02F', 0.24350940017905104),\n",
       " ('G01L', 0.384180790960452),\n",
       " ('A01C', 0.30699774266365687),\n",
       " ('B65G', 0.36707152496626183),\n",
       " ('G01S', 0.3496143958868895),\n",
       " ('A01F', 0.27586206896551724),\n",
       " ('A01D', 0.27586206896551724),\n",
       " ('B60P', 0.27586206896551724)]"
      ]
     },
     "execution_count": 44,
     "metadata": {},
     "output_type": "execute_result"
    }
   ],
   "source": [
    "list(nx.closeness_centrality(P).items())[:10]"
   ]
  },
  {
   "cell_type": "code",
   "execution_count": 45,
   "metadata": {},
   "outputs": [
    {
     "data": {
      "text/plain": [
       "[('B07B', 0.001518196754473213),\n",
       " ('A01B', 0.0188998013304777),\n",
       " ('E02F', 0.0),\n",
       " ('G01L', 0.01615846360175637),\n",
       " ('A01C', 0.00056886544304613),\n",
       " ('B65G', 0.0360352610237703),\n",
       " ('G01S', 0.001474382165040941),\n",
       " ('A01F', 0.0),\n",
       " ('A01D', 0.0),\n",
       " ('B60P', 0.0)]"
      ]
     },
     "execution_count": 45,
     "metadata": {},
     "output_type": "execute_result"
    }
   ],
   "source": [
    "list(nx.betweenness_centrality(P).items())[:10]"
   ]
  },
  {
   "cell_type": "code",
   "execution_count": null,
   "metadata": {
    "collapsed": true
   },
   "outputs": [],
   "source": []
  }
 ],
 "metadata": {
  "anaconda-cloud": {},
  "kernelspec": {
   "display_name": "Python 3",
   "language": "python",
   "name": "python3"
  },
  "language_info": {
   "codemirror_mode": {
    "name": "ipython",
    "version": 3
   },
   "file_extension": ".py",
   "mimetype": "text/x-python",
   "name": "python",
   "nbconvert_exporter": "python",
   "pygments_lexer": "ipython3",
   "version": "3.8.1"
  }
 },
 "nbformat": 4,
 "nbformat_minor": 1
}
