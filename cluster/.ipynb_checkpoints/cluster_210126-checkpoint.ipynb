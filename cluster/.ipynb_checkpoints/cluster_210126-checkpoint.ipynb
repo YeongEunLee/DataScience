{
 "cells": [
  {
   "cell_type": "code",
   "execution_count": null,
   "metadata": {},
   "outputs": [],
   "source": [
    "import pandas as pd\n",
    "df_raw = pd.read_excel('cluster_남여_고교유형_지역.xlsx', sheet_name = 0)\n",
    "df_고교지역 = pd.read_excel('11data_고교지역.xlsx', sheet_name = 0)\n",
    "\n",
    "#df_final은 보내준 엑셀파일(클러스터 적혀있는거)\n",
    "df_merge = pd.merge(df_raw, df_final, left_on='가번호', right_on='가번호', how='inner')"
   ]
  }
 ],
 "metadata": {
  "kernelspec": {
   "display_name": "Python 3",
   "language": "python",
   "name": "python3"
  },
  "language_info": {
   "codemirror_mode": {
    "name": "ipython",
    "version": 3
   },
   "file_extension": ".py",
   "mimetype": "text/x-python",
   "name": "python",
   "nbconvert_exporter": "python",
   "pygments_lexer": "ipython3",
   "version": "3.8.5"
  }
 },
 "nbformat": 4,
 "nbformat_minor": 4
}
