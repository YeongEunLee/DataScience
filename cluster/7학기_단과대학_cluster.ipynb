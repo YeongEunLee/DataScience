{
 "cells": [
  {
   "cell_type": "code",
   "execution_count": 12,
   "metadata": {},
   "outputs": [],
   "source": [
    "import matplotlib.pyplot as plt\n",
    "import seaborn as sns\n",
    "import matplotlib.font_manager as fm\n",
    "import numpy as np\n",
    "import random as rd\n",
    "import pandas as pd"
   ]
  },
  {
   "cell_type": "code",
   "execution_count": 13,
   "metadata": {},
   "outputs": [],
   "source": [
    "df = pd.read_excel('클러스터링_표_7학기까지.xlsx', sheet_name = 0)"
   ]
  },
  {
   "cell_type": "code",
   "execution_count": 14,
   "metadata": {},
   "outputs": [
    {
     "data": {
      "text/html": [
       "<div>\n",
       "<style scoped>\n",
       "    .dataframe tbody tr th:only-of-type {\n",
       "        vertical-align: middle;\n",
       "    }\n",
       "\n",
       "    .dataframe tbody tr th {\n",
       "        vertical-align: top;\n",
       "    }\n",
       "\n",
       "    .dataframe thead th {\n",
       "        text-align: right;\n",
       "    }\n",
       "</style>\n",
       "<table border=\"1\" class=\"dataframe\">\n",
       "  <thead>\n",
       "    <tr style=\"text-align: right;\">\n",
       "      <th></th>\n",
       "      <th>유형1_수시</th>\n",
       "      <th>유형1_정시</th>\n",
       "      <th>유형2_수시</th>\n",
       "      <th>유형2_정시</th>\n",
       "      <th>유형3_수시</th>\n",
       "      <th>유형3_정시</th>\n",
       "      <th>유형4_수시</th>\n",
       "      <th>유형4_정시</th>\n",
       "      <th>유형5_수시</th>\n",
       "      <th>유형5_정시</th>\n",
       "    </tr>\n",
       "  </thead>\n",
       "  <tbody>\n",
       "    <tr>\n",
       "      <th>0</th>\n",
       "      <td>0.250000</td>\n",
       "      <td>0.357143</td>\n",
       "      <td>0.535714</td>\n",
       "      <td>0.357143</td>\n",
       "      <td>0.214286</td>\n",
       "      <td>0.142857</td>\n",
       "      <td>0.000000</td>\n",
       "      <td>0.071429</td>\n",
       "      <td>0.000000</td>\n",
       "      <td>0.071429</td>\n",
       "    </tr>\n",
       "    <tr>\n",
       "      <th>1</th>\n",
       "      <td>0.305556</td>\n",
       "      <td>0.000000</td>\n",
       "      <td>0.416667</td>\n",
       "      <td>0.470588</td>\n",
       "      <td>0.166667</td>\n",
       "      <td>0.098039</td>\n",
       "      <td>0.055556</td>\n",
       "      <td>0.156863</td>\n",
       "      <td>0.055556</td>\n",
       "      <td>0.098039</td>\n",
       "    </tr>\n",
       "    <tr>\n",
       "      <th>2</th>\n",
       "      <td>0.450000</td>\n",
       "      <td>0.235955</td>\n",
       "      <td>0.275000</td>\n",
       "      <td>0.382022</td>\n",
       "      <td>0.125000</td>\n",
       "      <td>0.213483</td>\n",
       "      <td>0.075000</td>\n",
       "      <td>0.101124</td>\n",
       "      <td>0.075000</td>\n",
       "      <td>0.067416</td>\n",
       "    </tr>\n",
       "    <tr>\n",
       "      <th>3</th>\n",
       "      <td>0.196319</td>\n",
       "      <td>0.247664</td>\n",
       "      <td>0.349693</td>\n",
       "      <td>0.336449</td>\n",
       "      <td>0.269939</td>\n",
       "      <td>0.205607</td>\n",
       "      <td>0.122699</td>\n",
       "      <td>0.130841</td>\n",
       "      <td>0.061350</td>\n",
       "      <td>0.079439</td>\n",
       "    </tr>\n",
       "    <tr>\n",
       "      <th>4</th>\n",
       "      <td>0.294118</td>\n",
       "      <td>0.408163</td>\n",
       "      <td>0.411765</td>\n",
       "      <td>0.163265</td>\n",
       "      <td>0.058824</td>\n",
       "      <td>0.163265</td>\n",
       "      <td>0.117647</td>\n",
       "      <td>0.163265</td>\n",
       "      <td>0.117647</td>\n",
       "      <td>0.102041</td>\n",
       "    </tr>\n",
       "    <tr>\n",
       "      <th>5</th>\n",
       "      <td>0.313725</td>\n",
       "      <td>0.296875</td>\n",
       "      <td>0.431373</td>\n",
       "      <td>0.343750</td>\n",
       "      <td>0.078431</td>\n",
       "      <td>0.171875</td>\n",
       "      <td>0.137255</td>\n",
       "      <td>0.109375</td>\n",
       "      <td>0.039216</td>\n",
       "      <td>0.078125</td>\n",
       "    </tr>\n",
       "    <tr>\n",
       "      <th>6</th>\n",
       "      <td>0.407407</td>\n",
       "      <td>0.304000</td>\n",
       "      <td>0.355556</td>\n",
       "      <td>0.408000</td>\n",
       "      <td>0.103704</td>\n",
       "      <td>0.104000</td>\n",
       "      <td>0.111111</td>\n",
       "      <td>0.152000</td>\n",
       "      <td>0.022222</td>\n",
       "      <td>0.032000</td>\n",
       "    </tr>\n",
       "    <tr>\n",
       "      <th>7</th>\n",
       "      <td>0.291667</td>\n",
       "      <td>0.240506</td>\n",
       "      <td>0.347222</td>\n",
       "      <td>0.329114</td>\n",
       "      <td>0.125000</td>\n",
       "      <td>0.139241</td>\n",
       "      <td>0.222222</td>\n",
       "      <td>0.227848</td>\n",
       "      <td>0.013889</td>\n",
       "      <td>0.063291</td>\n",
       "    </tr>\n",
       "    <tr>\n",
       "      <th>8</th>\n",
       "      <td>0.287879</td>\n",
       "      <td>0.204082</td>\n",
       "      <td>0.393939</td>\n",
       "      <td>0.265306</td>\n",
       "      <td>0.181818</td>\n",
       "      <td>0.183673</td>\n",
       "      <td>0.121212</td>\n",
       "      <td>0.204082</td>\n",
       "      <td>0.015152</td>\n",
       "      <td>0.142857</td>\n",
       "    </tr>\n",
       "    <tr>\n",
       "      <th>9</th>\n",
       "      <td>0.242424</td>\n",
       "      <td>0.260870</td>\n",
       "      <td>0.303030</td>\n",
       "      <td>0.391304</td>\n",
       "      <td>0.303030</td>\n",
       "      <td>0.043478</td>\n",
       "      <td>0.060606</td>\n",
       "      <td>0.173913</td>\n",
       "      <td>0.090909</td>\n",
       "      <td>0.130435</td>\n",
       "    </tr>\n",
       "    <tr>\n",
       "      <th>10</th>\n",
       "      <td>0.235294</td>\n",
       "      <td>0.310345</td>\n",
       "      <td>0.411765</td>\n",
       "      <td>0.241379</td>\n",
       "      <td>0.029412</td>\n",
       "      <td>0.172414</td>\n",
       "      <td>0.117647</td>\n",
       "      <td>0.172414</td>\n",
       "      <td>0.205882</td>\n",
       "      <td>0.103448</td>\n",
       "    </tr>\n",
       "    <tr>\n",
       "      <th>11</th>\n",
       "      <td>0.298507</td>\n",
       "      <td>0.225000</td>\n",
       "      <td>0.477612</td>\n",
       "      <td>0.400000</td>\n",
       "      <td>0.104478</td>\n",
       "      <td>0.075000</td>\n",
       "      <td>0.119403</td>\n",
       "      <td>0.225000</td>\n",
       "      <td>0.000000</td>\n",
       "      <td>0.075000</td>\n",
       "    </tr>\n",
       "    <tr>\n",
       "      <th>12</th>\n",
       "      <td>0.000000</td>\n",
       "      <td>0.375000</td>\n",
       "      <td>0.600000</td>\n",
       "      <td>0.250000</td>\n",
       "      <td>0.400000</td>\n",
       "      <td>0.250000</td>\n",
       "      <td>0.000000</td>\n",
       "      <td>0.125000</td>\n",
       "      <td>0.000000</td>\n",
       "      <td>0.000000</td>\n",
       "    </tr>\n",
       "    <tr>\n",
       "      <th>13</th>\n",
       "      <td>0.271186</td>\n",
       "      <td>0.254237</td>\n",
       "      <td>0.372881</td>\n",
       "      <td>0.254237</td>\n",
       "      <td>0.101695</td>\n",
       "      <td>0.203390</td>\n",
       "      <td>0.220339</td>\n",
       "      <td>0.169492</td>\n",
       "      <td>0.033898</td>\n",
       "      <td>0.118644</td>\n",
       "    </tr>\n",
       "    <tr>\n",
       "      <th>14</th>\n",
       "      <td>0.093023</td>\n",
       "      <td>0.185567</td>\n",
       "      <td>0.418605</td>\n",
       "      <td>0.371134</td>\n",
       "      <td>0.325581</td>\n",
       "      <td>0.237113</td>\n",
       "      <td>0.116279</td>\n",
       "      <td>0.144330</td>\n",
       "      <td>0.046512</td>\n",
       "      <td>0.061856</td>\n",
       "    </tr>\n",
       "    <tr>\n",
       "      <th>15</th>\n",
       "      <td>0.500000</td>\n",
       "      <td>0.267857</td>\n",
       "      <td>0.357143</td>\n",
       "      <td>0.285714</td>\n",
       "      <td>0.035714</td>\n",
       "      <td>0.214286</td>\n",
       "      <td>0.107143</td>\n",
       "      <td>0.160714</td>\n",
       "      <td>0.000000</td>\n",
       "      <td>0.071429</td>\n",
       "    </tr>\n",
       "  </tbody>\n",
       "</table>\n",
       "</div>"
      ],
      "text/plain": [
       "      유형1_수시    유형1_정시    유형2_수시    유형2_정시    유형3_수시    유형3_정시    유형4_수시  \\\n",
       "0   0.250000  0.357143  0.535714  0.357143  0.214286  0.142857  0.000000   \n",
       "1   0.305556  0.000000  0.416667  0.470588  0.166667  0.098039  0.055556   \n",
       "2   0.450000  0.235955  0.275000  0.382022  0.125000  0.213483  0.075000   \n",
       "3   0.196319  0.247664  0.349693  0.336449  0.269939  0.205607  0.122699   \n",
       "4   0.294118  0.408163  0.411765  0.163265  0.058824  0.163265  0.117647   \n",
       "5   0.313725  0.296875  0.431373  0.343750  0.078431  0.171875  0.137255   \n",
       "6   0.407407  0.304000  0.355556  0.408000  0.103704  0.104000  0.111111   \n",
       "7   0.291667  0.240506  0.347222  0.329114  0.125000  0.139241  0.222222   \n",
       "8   0.287879  0.204082  0.393939  0.265306  0.181818  0.183673  0.121212   \n",
       "9   0.242424  0.260870  0.303030  0.391304  0.303030  0.043478  0.060606   \n",
       "10  0.235294  0.310345  0.411765  0.241379  0.029412  0.172414  0.117647   \n",
       "11  0.298507  0.225000  0.477612  0.400000  0.104478  0.075000  0.119403   \n",
       "12  0.000000  0.375000  0.600000  0.250000  0.400000  0.250000  0.000000   \n",
       "13  0.271186  0.254237  0.372881  0.254237  0.101695  0.203390  0.220339   \n",
       "14  0.093023  0.185567  0.418605  0.371134  0.325581  0.237113  0.116279   \n",
       "15  0.500000  0.267857  0.357143  0.285714  0.035714  0.214286  0.107143   \n",
       "\n",
       "      유형4_정시    유형5_수시    유형5_정시  \n",
       "0   0.071429  0.000000  0.071429  \n",
       "1   0.156863  0.055556  0.098039  \n",
       "2   0.101124  0.075000  0.067416  \n",
       "3   0.130841  0.061350  0.079439  \n",
       "4   0.163265  0.117647  0.102041  \n",
       "5   0.109375  0.039216  0.078125  \n",
       "6   0.152000  0.022222  0.032000  \n",
       "7   0.227848  0.013889  0.063291  \n",
       "8   0.204082  0.015152  0.142857  \n",
       "9   0.173913  0.090909  0.130435  \n",
       "10  0.172414  0.205882  0.103448  \n",
       "11  0.225000  0.000000  0.075000  \n",
       "12  0.125000  0.000000  0.000000  \n",
       "13  0.169492  0.033898  0.118644  \n",
       "14  0.144330  0.046512  0.061856  \n",
       "15  0.160714  0.000000  0.071429  "
      ]
     },
     "execution_count": 14,
     "metadata": {},
     "output_type": "execute_result"
    }
   ],
   "source": [
    "df"
   ]
  },
  {
   "cell_type": "code",
   "execution_count": 15,
   "metadata": {},
   "outputs": [],
   "source": [
    "df.index = ['KU융합과학기술원', '건축대학', '경영대학', '공과대학', '글로벌융합대학', '동물생명과학대학', '문과대학', '사범대학', '상경대학', '상허생명과학대학', '생명특성화대학', '생명환경과학대학','소프트웨어융합학부', '이과대학', '정보통신대학', '정치대학']"
   ]
  },
  {
   "cell_type": "code",
   "execution_count": 16,
   "metadata": {},
   "outputs": [
    {
     "data": {
      "text/html": [
       "<div>\n",
       "<style scoped>\n",
       "    .dataframe tbody tr th:only-of-type {\n",
       "        vertical-align: middle;\n",
       "    }\n",
       "\n",
       "    .dataframe tbody tr th {\n",
       "        vertical-align: top;\n",
       "    }\n",
       "\n",
       "    .dataframe thead th {\n",
       "        text-align: right;\n",
       "    }\n",
       "</style>\n",
       "<table border=\"1\" class=\"dataframe\">\n",
       "  <thead>\n",
       "    <tr style=\"text-align: right;\">\n",
       "      <th></th>\n",
       "      <th>유형1_수시</th>\n",
       "      <th>유형1_정시</th>\n",
       "      <th>유형2_수시</th>\n",
       "      <th>유형2_정시</th>\n",
       "      <th>유형3_수시</th>\n",
       "      <th>유형3_정시</th>\n",
       "      <th>유형4_수시</th>\n",
       "      <th>유형4_정시</th>\n",
       "      <th>유형5_수시</th>\n",
       "      <th>유형5_정시</th>\n",
       "    </tr>\n",
       "  </thead>\n",
       "  <tbody>\n",
       "    <tr>\n",
       "      <th>KU융합과학기술원</th>\n",
       "      <td>0.250000</td>\n",
       "      <td>0.357143</td>\n",
       "      <td>0.535714</td>\n",
       "      <td>0.357143</td>\n",
       "      <td>0.214286</td>\n",
       "      <td>0.142857</td>\n",
       "      <td>0.000000</td>\n",
       "      <td>0.071429</td>\n",
       "      <td>0.000000</td>\n",
       "      <td>0.071429</td>\n",
       "    </tr>\n",
       "    <tr>\n",
       "      <th>건축대학</th>\n",
       "      <td>0.305556</td>\n",
       "      <td>0.000000</td>\n",
       "      <td>0.416667</td>\n",
       "      <td>0.470588</td>\n",
       "      <td>0.166667</td>\n",
       "      <td>0.098039</td>\n",
       "      <td>0.055556</td>\n",
       "      <td>0.156863</td>\n",
       "      <td>0.055556</td>\n",
       "      <td>0.098039</td>\n",
       "    </tr>\n",
       "    <tr>\n",
       "      <th>경영대학</th>\n",
       "      <td>0.450000</td>\n",
       "      <td>0.235955</td>\n",
       "      <td>0.275000</td>\n",
       "      <td>0.382022</td>\n",
       "      <td>0.125000</td>\n",
       "      <td>0.213483</td>\n",
       "      <td>0.075000</td>\n",
       "      <td>0.101124</td>\n",
       "      <td>0.075000</td>\n",
       "      <td>0.067416</td>\n",
       "    </tr>\n",
       "    <tr>\n",
       "      <th>공과대학</th>\n",
       "      <td>0.196319</td>\n",
       "      <td>0.247664</td>\n",
       "      <td>0.349693</td>\n",
       "      <td>0.336449</td>\n",
       "      <td>0.269939</td>\n",
       "      <td>0.205607</td>\n",
       "      <td>0.122699</td>\n",
       "      <td>0.130841</td>\n",
       "      <td>0.061350</td>\n",
       "      <td>0.079439</td>\n",
       "    </tr>\n",
       "    <tr>\n",
       "      <th>글로벌융합대학</th>\n",
       "      <td>0.294118</td>\n",
       "      <td>0.408163</td>\n",
       "      <td>0.411765</td>\n",
       "      <td>0.163265</td>\n",
       "      <td>0.058824</td>\n",
       "      <td>0.163265</td>\n",
       "      <td>0.117647</td>\n",
       "      <td>0.163265</td>\n",
       "      <td>0.117647</td>\n",
       "      <td>0.102041</td>\n",
       "    </tr>\n",
       "    <tr>\n",
       "      <th>동물생명과학대학</th>\n",
       "      <td>0.313725</td>\n",
       "      <td>0.296875</td>\n",
       "      <td>0.431373</td>\n",
       "      <td>0.343750</td>\n",
       "      <td>0.078431</td>\n",
       "      <td>0.171875</td>\n",
       "      <td>0.137255</td>\n",
       "      <td>0.109375</td>\n",
       "      <td>0.039216</td>\n",
       "      <td>0.078125</td>\n",
       "    </tr>\n",
       "    <tr>\n",
       "      <th>문과대학</th>\n",
       "      <td>0.407407</td>\n",
       "      <td>0.304000</td>\n",
       "      <td>0.355556</td>\n",
       "      <td>0.408000</td>\n",
       "      <td>0.103704</td>\n",
       "      <td>0.104000</td>\n",
       "      <td>0.111111</td>\n",
       "      <td>0.152000</td>\n",
       "      <td>0.022222</td>\n",
       "      <td>0.032000</td>\n",
       "    </tr>\n",
       "    <tr>\n",
       "      <th>사범대학</th>\n",
       "      <td>0.291667</td>\n",
       "      <td>0.240506</td>\n",
       "      <td>0.347222</td>\n",
       "      <td>0.329114</td>\n",
       "      <td>0.125000</td>\n",
       "      <td>0.139241</td>\n",
       "      <td>0.222222</td>\n",
       "      <td>0.227848</td>\n",
       "      <td>0.013889</td>\n",
       "      <td>0.063291</td>\n",
       "    </tr>\n",
       "    <tr>\n",
       "      <th>상경대학</th>\n",
       "      <td>0.287879</td>\n",
       "      <td>0.204082</td>\n",
       "      <td>0.393939</td>\n",
       "      <td>0.265306</td>\n",
       "      <td>0.181818</td>\n",
       "      <td>0.183673</td>\n",
       "      <td>0.121212</td>\n",
       "      <td>0.204082</td>\n",
       "      <td>0.015152</td>\n",
       "      <td>0.142857</td>\n",
       "    </tr>\n",
       "    <tr>\n",
       "      <th>상허생명과학대학</th>\n",
       "      <td>0.242424</td>\n",
       "      <td>0.260870</td>\n",
       "      <td>0.303030</td>\n",
       "      <td>0.391304</td>\n",
       "      <td>0.303030</td>\n",
       "      <td>0.043478</td>\n",
       "      <td>0.060606</td>\n",
       "      <td>0.173913</td>\n",
       "      <td>0.090909</td>\n",
       "      <td>0.130435</td>\n",
       "    </tr>\n",
       "    <tr>\n",
       "      <th>생명특성화대학</th>\n",
       "      <td>0.235294</td>\n",
       "      <td>0.310345</td>\n",
       "      <td>0.411765</td>\n",
       "      <td>0.241379</td>\n",
       "      <td>0.029412</td>\n",
       "      <td>0.172414</td>\n",
       "      <td>0.117647</td>\n",
       "      <td>0.172414</td>\n",
       "      <td>0.205882</td>\n",
       "      <td>0.103448</td>\n",
       "    </tr>\n",
       "    <tr>\n",
       "      <th>생명환경과학대학</th>\n",
       "      <td>0.298507</td>\n",
       "      <td>0.225000</td>\n",
       "      <td>0.477612</td>\n",
       "      <td>0.400000</td>\n",
       "      <td>0.104478</td>\n",
       "      <td>0.075000</td>\n",
       "      <td>0.119403</td>\n",
       "      <td>0.225000</td>\n",
       "      <td>0.000000</td>\n",
       "      <td>0.075000</td>\n",
       "    </tr>\n",
       "    <tr>\n",
       "      <th>소프트웨어융합학부</th>\n",
       "      <td>0.000000</td>\n",
       "      <td>0.375000</td>\n",
       "      <td>0.600000</td>\n",
       "      <td>0.250000</td>\n",
       "      <td>0.400000</td>\n",
       "      <td>0.250000</td>\n",
       "      <td>0.000000</td>\n",
       "      <td>0.125000</td>\n",
       "      <td>0.000000</td>\n",
       "      <td>0.000000</td>\n",
       "    </tr>\n",
       "    <tr>\n",
       "      <th>이과대학</th>\n",
       "      <td>0.271186</td>\n",
       "      <td>0.254237</td>\n",
       "      <td>0.372881</td>\n",
       "      <td>0.254237</td>\n",
       "      <td>0.101695</td>\n",
       "      <td>0.203390</td>\n",
       "      <td>0.220339</td>\n",
       "      <td>0.169492</td>\n",
       "      <td>0.033898</td>\n",
       "      <td>0.118644</td>\n",
       "    </tr>\n",
       "    <tr>\n",
       "      <th>정보통신대학</th>\n",
       "      <td>0.093023</td>\n",
       "      <td>0.185567</td>\n",
       "      <td>0.418605</td>\n",
       "      <td>0.371134</td>\n",
       "      <td>0.325581</td>\n",
       "      <td>0.237113</td>\n",
       "      <td>0.116279</td>\n",
       "      <td>0.144330</td>\n",
       "      <td>0.046512</td>\n",
       "      <td>0.061856</td>\n",
       "    </tr>\n",
       "    <tr>\n",
       "      <th>정치대학</th>\n",
       "      <td>0.500000</td>\n",
       "      <td>0.267857</td>\n",
       "      <td>0.357143</td>\n",
       "      <td>0.285714</td>\n",
       "      <td>0.035714</td>\n",
       "      <td>0.214286</td>\n",
       "      <td>0.107143</td>\n",
       "      <td>0.160714</td>\n",
       "      <td>0.000000</td>\n",
       "      <td>0.071429</td>\n",
       "    </tr>\n",
       "  </tbody>\n",
       "</table>\n",
       "</div>"
      ],
      "text/plain": [
       "             유형1_수시    유형1_정시    유형2_수시    유형2_정시    유형3_수시    유형3_정시  \\\n",
       "KU융합과학기술원  0.250000  0.357143  0.535714  0.357143  0.214286  0.142857   \n",
       "건축대학       0.305556  0.000000  0.416667  0.470588  0.166667  0.098039   \n",
       "경영대학       0.450000  0.235955  0.275000  0.382022  0.125000  0.213483   \n",
       "공과대학       0.196319  0.247664  0.349693  0.336449  0.269939  0.205607   \n",
       "글로벌융합대학    0.294118  0.408163  0.411765  0.163265  0.058824  0.163265   \n",
       "동물생명과학대학   0.313725  0.296875  0.431373  0.343750  0.078431  0.171875   \n",
       "문과대학       0.407407  0.304000  0.355556  0.408000  0.103704  0.104000   \n",
       "사범대학       0.291667  0.240506  0.347222  0.329114  0.125000  0.139241   \n",
       "상경대학       0.287879  0.204082  0.393939  0.265306  0.181818  0.183673   \n",
       "상허생명과학대학   0.242424  0.260870  0.303030  0.391304  0.303030  0.043478   \n",
       "생명특성화대학    0.235294  0.310345  0.411765  0.241379  0.029412  0.172414   \n",
       "생명환경과학대학   0.298507  0.225000  0.477612  0.400000  0.104478  0.075000   \n",
       "소프트웨어융합학부  0.000000  0.375000  0.600000  0.250000  0.400000  0.250000   \n",
       "이과대학       0.271186  0.254237  0.372881  0.254237  0.101695  0.203390   \n",
       "정보통신대학     0.093023  0.185567  0.418605  0.371134  0.325581  0.237113   \n",
       "정치대학       0.500000  0.267857  0.357143  0.285714  0.035714  0.214286   \n",
       "\n",
       "             유형4_수시    유형4_정시    유형5_수시    유형5_정시  \n",
       "KU융합과학기술원  0.000000  0.071429  0.000000  0.071429  \n",
       "건축대학       0.055556  0.156863  0.055556  0.098039  \n",
       "경영대학       0.075000  0.101124  0.075000  0.067416  \n",
       "공과대학       0.122699  0.130841  0.061350  0.079439  \n",
       "글로벌융합대학    0.117647  0.163265  0.117647  0.102041  \n",
       "동물생명과학대학   0.137255  0.109375  0.039216  0.078125  \n",
       "문과대학       0.111111  0.152000  0.022222  0.032000  \n",
       "사범대학       0.222222  0.227848  0.013889  0.063291  \n",
       "상경대학       0.121212  0.204082  0.015152  0.142857  \n",
       "상허생명과학대학   0.060606  0.173913  0.090909  0.130435  \n",
       "생명특성화대학    0.117647  0.172414  0.205882  0.103448  \n",
       "생명환경과학대학   0.119403  0.225000  0.000000  0.075000  \n",
       "소프트웨어융합학부  0.000000  0.125000  0.000000  0.000000  \n",
       "이과대학       0.220339  0.169492  0.033898  0.118644  \n",
       "정보통신대학     0.116279  0.144330  0.046512  0.061856  \n",
       "정치대학       0.107143  0.160714  0.000000  0.071429  "
      ]
     },
     "execution_count": 16,
     "metadata": {},
     "output_type": "execute_result"
    }
   ],
   "source": [
    "df"
   ]
  },
  {
   "cell_type": "code",
   "execution_count": 17,
   "metadata": {},
   "outputs": [],
   "source": [
    "import platform\n",
    "if platform.system() == 'Darwin':\n",
    "    plt.rc('font', family='AppleGothic')\n",
    "plt.rcParams['axes.unicode_minus'] = False"
   ]
  },
  {
   "cell_type": "code",
   "execution_count": 18,
   "metadata": {},
   "outputs": [],
   "source": [
    "sns.set(style='whitegrid', font='AppleGothic', font_scale=1.2)"
   ]
  },
  {
   "cell_type": "code",
   "execution_count": 19,
   "metadata": {},
   "outputs": [],
   "source": [
    "X = df.iloc[:,[1,2]].values\n",
    "m = X.shape[0]\n",
    "n = X.shape[1]"
   ]
  },
  {
   "cell_type": "code",
   "execution_count": 20,
   "metadata": {},
   "outputs": [
    {
     "data": {
      "text/plain": [
       "Text(0.5, 0, '입학대학')"
      ]
     },
     "execution_count": 20,
     "metadata": {},
     "output_type": "execute_result"
    },
    {
     "data": {
      "image/png": "[encoded data removed]",
      "text/plain": [
       "<Figure size 432x288 with 1 Axes>"
      ]
     },
     "metadata": {},
     "output_type": "display_data"
    }
   ],
   "source": [
    "plt.scatter(X[:,0], X[:,1], c='black', label='입학대학')\n",
    "plt.xlabel('입학대학')"
   ]
  },
  {
   "cell_type": "code",
   "execution_count": 21,
   "metadata": {},
   "outputs": [],
   "source": [
    "%matplotlib inline\n",
    "import numpy as np\n",
    "import pandas as pd\n",
    "import matplotlib.pyplot as plt\n",
    "import scipy.stats as stats\n",
    "import sklearn.linear_model as linear_model\n",
    "import seaborn as sns\n",
    "from sklearn.model_selection import KFold\n",
    "from IPython.display import HTML, display\n",
    "from sklearn.manifold import TSNE\n",
    "from sklearn.cluster import KMeans\n",
    "from sklearn.decomposition import PCA\n",
    "from sklearn.preprocessing import StandardScaler\n",
    "from sklearn.model_selection import StratifiedShuffleSplit"
   ]
  },
  {
   "cell_type": "code",
   "execution_count": 22,
   "metadata": {},
   "outputs": [],
   "source": [
    "from sklearn.preprocessing import scale\n",
    "\n",
    "df_scaled = pd.DataFrame(scale(df), \n",
    "                            columns=df.columns)"
   ]
  },
  {
   "cell_type": "code",
   "execution_count": 23,
   "metadata": {},
   "outputs": [],
   "source": [
    "from sklearn.preprocessing import scale\n",
    "\n",
    "df_scaled_nodimension = pd.DataFrame(scale(df), \n",
    "                            columns=df.columns)"
   ]
  },
  {
   "cell_type": "code",
   "execution_count": 24,
   "metadata": {},
   "outputs": [
    {
     "name": "stdout",
     "output_type": "stream",
     "text": [
      "[2 2 2 2 3 2 2 1 1 2 3 1 0 1 2 2]\n"
     ]
    }
   ],
   "source": [
    "from mpl_toolkits.mplot3d import Axes3D\n",
    "\n",
    "X = df_scaled_nodimension\n",
    "\n",
    "kmeans = KMeans(n_clusters=4)\n",
    "kmeans.fit(X)\n",
    "# print(\"클러스터 레이블:\\n{}\".format(kmeans.labels_))\n",
    "y_kmeans = kmeans.predict(X)\n",
    "print(y_kmeans)\n",
    "\n",
    "# centers = kmeans.cluster_centers_\n",
    "# centers"
   ]
  },
  {
   "cell_type": "code",
   "execution_count": 26,
   "metadata": {},
   "outputs": [
    {
     "data": {
      "text/plain": [
       "[<matplotlib.lines.Line2D at 0x7fe49eb1f280>,\n",
       " <matplotlib.lines.Line2D at 0x7fe49eb1f5e0>,\n",
       " <matplotlib.lines.Line2D at 0x7fe49eb1f940>,\n",
       " <matplotlib.lines.Line2D at 0x7fe49eb1fca0>]"
      ]
     },
     "execution_count": 26,
     "metadata": {},
     "output_type": "execute_result"
    },
    {
     "data": {
      "image/png": "[encoded data removed]",
      "text/plain": [
       "<Figure size 432x288 with 1 Axes>"
      ]
     },
     "metadata": {
      "needs_background": "light"
     },
     "output_type": "display_data"
    }
   ],
   "source": [
    "import mglearn\n",
    "\n",
    "mglearn.discrete_scatter(X.values[:, 0], X.values[:, 1], kmeans.labels_, markers='o')\n",
    "mglearn.discrete_scatter(kmeans.cluster_centers_[:, 0], kmeans.cluster_centers_[:, 1], [0, 1, 2, 3], markers='^', markeredgewidth=2)"
   ]
  },
  {
   "cell_type": "code",
   "execution_count": 27,
   "metadata": {},
   "outputs": [
    {
     "data": {
      "text/plain": [
       "[<matplotlib.lines.Line2D at 0x7fe49ec14a60>,\n",
       " <matplotlib.lines.Line2D at 0x7fe49ec14d30>,\n",
       " <matplotlib.lines.Line2D at 0x7fe49ec430d0>,\n",
       " <matplotlib.lines.Line2D at 0x7fe49ec43430>]"
      ]
     },
     "execution_count": 27,
     "metadata": {},
     "output_type": "execute_result"
    },
    {
     "data": {
      "image/png": "[encoded data removed]",
      "text/plain": [
       "<Figure size 720x360 with 2 Axes>"
      ]
     },
     "metadata": {
      "needs_background": "light"
     },
     "output_type": "display_data"
    }
   ],
   "source": [
    "fig, axes = plt.subplots(1, 2, figsize=(10, 5))\n",
    "\n",
    "# 두 개의 클러스터 중심을 사용합니다\n",
    "kmeans = KMeans(n_clusters=2)\n",
    "kmeans.fit(X)\n",
    "assignments = kmeans.labels_\n",
    "\n",
    "mglearn.discrete_scatter(X.values[:, 0], X.values[:, 1], assignments, ax=axes[0])\n",
    "\n",
    "# 네 개의 클러스터 중심을 사용합니다\n",
    "kmeans = KMeans(n_clusters=4)\n",
    "kmeans.fit(X)\n",
    "assignments = kmeans.labels_\n",
    "\n",
    "mglearn.discrete_scatter(X.values[:, 0], X.values[:, 1], assignments, ax=axes[1])"
   ]
  },
  {
   "cell_type": "code",
   "execution_count": 28,
   "metadata": {},
   "outputs": [],
   "source": [
    "data = df_scaled_nodimension\n",
    "#pca = PCA(n_components=2).fit(data)\n",
    "#reduced_data = pca.transform(data)\n",
    "# pca_samples = pca.transform(data)\n",
    "reduced_data = pd.DataFrame(data, columns = ['Dimension 1', 'Dimension 2','Dimension 3','Dimension 4', 'Dimension 5', 'Dimension 6', 'Dimension 7', 'Dimension 8','Dimension 9', 'Dimension 10'])"
   ]
  },
  {
   "cell_type": "code",
   "execution_count": 29,
   "metadata": {},
   "outputs": [
    {
     "data": {
      "text/plain": [
       "[<matplotlib.lines.Line2D at 0x7fe49ecb2310>,\n",
       " <matplotlib.lines.Line2D at 0x7fe49ecb2670>,\n",
       " <matplotlib.lines.Line2D at 0x7fe49ecb29d0>]"
      ]
     },
     "execution_count": 29,
     "metadata": {},
     "output_type": "execute_result"
    },
    {
     "data": {
      "image/png": "[encoded data removed]",
      "text/plain": [
       "<Figure size 432x288 with 1 Axes>"
      ]
     },
     "metadata": {
      "needs_background": "light"
     },
     "output_type": "display_data"
    }
   ],
   "source": [
    "X = data\n",
    "kmeans = KMeans(n_clusters=3)\n",
    "kmeans.fit(X)\n",
    "y_kmeans = kmeans.predict(X)\n",
    "\n",
    "mglearn.discrete_scatter(X.values[:, 0], X.values[:, 1], kmeans.labels_, markers='o')\n",
    "mglearn.discrete_scatter(kmeans.cluster_centers_[:, 0], kmeans.cluster_centers_[:, 1], [0, 1, 2], markers='^', markeredgewidth=2)"
   ]
  },
  {
   "cell_type": "code",
   "execution_count": 32,
   "metadata": {},
   "outputs": [
    {
     "data": {
      "text/plain": [
       "[<matplotlib.lines.Line2D at 0x7fe49f215bb0>,\n",
       " <matplotlib.lines.Line2D at 0x7fe49f215e80>,\n",
       " <matplotlib.lines.Line2D at 0x7fe49f225220>,\n",
       " <matplotlib.lines.Line2D at 0x7fe49f225580>,\n",
       " <matplotlib.lines.Line2D at 0x7fe49f2258e0>]"
      ]
     },
     "execution_count": 32,
     "metadata": {},
     "output_type": "execute_result"
    },
    {
     "data": {
      "image/png": "[encoded data removed]",
      "text/plain": [
       "<Figure size 720x360 with 2 Axes>"
      ]
     },
     "metadata": {
      "needs_background": "light"
     },
     "output_type": "display_data"
    }
   ],
   "source": [
    "fig, axes = plt.subplots(1, 2, figsize=(10, 5))\n",
    "\n",
    "# 두 개의 클러스터 중심을 사용합니다\n",
    "kmeans = KMeans(n_clusters=2)\n",
    "kmeans.fit(X)\n",
    "assignments = kmeans.labels_\n",
    "\n",
    "mglearn.discrete_scatter(X.values[:, 0], X.values[:, 1], assignments, ax=axes[0])\n",
    "\n",
    "# 네 개의 클러스터 중심을 사용합니다\n",
    "kmeans = KMeans(n_clusters=5)\n",
    "kmeans.fit(X)\n",
    "assignments = kmeans.labels_\n",
    "\n",
    "mglearn.discrete_scatter(X.values[:, 0], X.values[:, 1], assignments, ax=axes[1])"
   ]
  },
  {
   "cell_type": "code",
   "execution_count": 34,
   "metadata": {},
   "outputs": [
    {
     "data": {
      "text/plain": [
       "Text(0, 0.5, '클러스터 거리')"
      ]
     },
     "execution_count": 34,
     "metadata": {},
     "output_type": "execute_result"
    },
    {
     "data": {
      "image/png": "[encoded data removed]",
      "text/plain": [
       "<Figure size 432x288 with 1 Axes>"
      ]
     },
     "metadata": {
      "needs_background": "light"
     },
     "output_type": "display_data"
    }
   ],
   "source": [
    "from scipy.cluster.hierarchy import dendrogram, ward\n",
    "\n",
    "# X, y = make_blobs(random_state=0, n_samples=12)\n",
    "linkage_array = ward(X)\n",
    "dendrogram(linkage_array)\n",
    "\n",
    "ax = plt.gca()\n",
    "bounds = ax.get_xbound()\n",
    "ax.plot(bounds, [10, 10], '--', c='k')\n",
    "ax.plot(bounds, [5,5], '--', c='k')\n",
    "\n",
    "ax.text(bounds[1], 10, '두 개 클러스터', va='center', fontdict={'size':15})\n",
    "ax.text(bounds[1], 5, '다섯 개 클러스터', va='center', fontdict={'size':15})\n",
    "plt.xlabel(\"샘플 번호\")\n",
    "plt.ylabel(\"클러스터 거리\")"
   ]
  }
 ],
 "metadata": {
  "kernelspec": {
   "display_name": "Python 3",
   "language": "python",
   "name": "python3"
  },
  "language_info": {
   "codemirror_mode": {
    "name": "ipython",
    "version": 3
   },
   "file_extension": ".py",
   "mimetype": "text/x-python",
   "name": "python",
   "nbconvert_exporter": "python",
   "pygments_lexer": "ipython3",
   "version": "3.8.5"
  }
 },
 "nbformat": 4,
 "nbformat_minor": 4
}
